{
 "cells": [
  {
   "cell_type": "code",
   "execution_count": 1,
   "id": "6b7df9f1",
   "metadata": {},
   "outputs": [],
   "source": [
    "#https://github.com/hennypurwadi/Web_Scraping\n",
    "\n",
    "import requests \n",
    "import pandas as pd \n",
    "import matplotlib.pyplot as plt\n",
    "import numpy as np\n",
    "import seaborn as sns\n",
    "from bs4 import BeautifulSoup \n",
    "import datetime\n",
    "from datetime import datetime, timedelta\n",
    "import time\n",
    "import schedule\n",
    "import csv\n",
    "import h5py\n",
    "import pytrends\n",
    "from pytrends.request import TrendReq\n",
    "\n",
    "import warnings\n",
    "warnings.filterwarnings('ignore')"
   ]
  },
  {
   "cell_type": "code",
   "execution_count": 2,
   "id": "9cac4ba5",
   "metadata": {},
   "outputs": [
    {
     "name": "stdout",
     "output_type": "stream",
     "text": [
      "file written\n"
     ]
    }
   ],
   "source": [
    "#Write header in empty csv file\n",
    "\n",
    "filedf = \"dailybtcprice.csv\"\n",
    "with open(filedf, 'a', newline='') as f:\n",
    "        writer = csv.writer(f)\n",
    "        writer.writerow(['Date', 'BTC'])\n",
    "        print(\"file written\")"
   ]
  },
  {
   "cell_type": "code",
   "execution_count": 3,
   "id": "11bbf585",
   "metadata": {},
   "outputs": [
    {
     "name": "stdout",
     "output_type": "stream",
     "text": [
      "file written\n"
     ]
    }
   ],
   "source": [
    "#Write url_options.csv\n",
    "\n",
    "url_options = \"url_options.csv\"\n",
    "with open(url_options, 'a', newline='') as f:\n",
    "        writer = csv.writer(f)\n",
    "        writer.writerow(['list_url'])\n",
    "        writer.writerow(['https://www.google.com/search?&q=bitcoin price in US'])\n",
    "        writer.writerow(['https://finance.yahoo.com/quote/BTC-USD?p=BTC-USD'])\n",
    "        writer.writerow(['https://coinmarketcap.com/currencies/bitcoin/'])\n",
    "        writer.writerow(['https://trends.google.com/trends/explore?date=today%201-m&geo=US&q=bitcoin'])\n",
    "        print(\"file written\")"
   ]
  },
  {
   "cell_type": "code",
   "execution_count": 4,
   "id": "d26f7557",
   "metadata": {},
   "outputs": [
    {
     "name": "stdout",
     "output_type": "stream",
     "text": [
      "file written\n"
     ]
    }
   ],
   "source": [
    "today = datetime.now().date()\n",
    "today = str(today)\n",
    "\n",
    "Some_url = pd.read_csv('url_options.csv')\n",
    "url = Some_url['list_url'].iloc[0]\n",
    "\n",
    "req = requests.get(url)\n",
    "scrap = BeautifulSoup(req.text, 'lxml')\n",
    "btc_price = scrap.find(\"div\", class_ = \"BNeawe iBp4i AP7Wnd\").text\n",
    "\n",
    "filedf = \"dailybtcprice.csv\"\n",
    "\n",
    "# write new data into csv\n",
    "with open(filedf, 'a', newline='') as f:\n",
    "    writer = csv.writer(f)\n",
    "    writer.writerow([today, btc_price])\n",
    "    print(\"file written\")\n",
    "    \n",
    "def job(time, price):\n",
    "    \n",
    "    url = 'https://www.google.com/search?&q=bitcoin price in US'\n",
    "    req = requests.get(url)\n",
    "    scrap = BeautifulSoup(req.text, 'lxml')\n",
    "    btc_price = scrap.find(\"div\", class_ = \"BNeawe iBp4i AP7Wnd\").text\n",
    "        \n",
    "    filedf = \"dailybtcprice.csv\"\n",
    "    \n",
    "    # append new data into csv new row\n",
    "    with open(filedf, 'a', newline='') as f:\n",
    "        writer = csv.writer(f)\n",
    "        writer.writerow([today, btc_price])\n",
    "        print(\"file written\")        "
   ]
  },
  {
   "cell_type": "code",
   "execution_count": 5,
   "id": "e5c89f16",
   "metadata": {},
   "outputs": [
    {
     "data": {
      "text/plain": [
       "'https://www.google.com/search?&q=bitcoin price in US'"
      ]
     },
     "execution_count": 5,
     "metadata": {},
     "output_type": "execute_result"
    }
   ],
   "source": [
    "#read url_options.csv\n",
    "Some_url = pd.read_csv('url_options.csv')\n",
    "Some_url['list_url'].iloc[0]"
   ]
  },
  {
   "cell_type": "code",
   "execution_count": 6,
   "id": "fa024544",
   "metadata": {},
   "outputs": [
    {
     "data": {
      "text/plain": [
       "'37.247,30 Dolar Amerika Serikat'"
      ]
     },
     "execution_count": 6,
     "metadata": {},
     "output_type": "execute_result"
    }
   ],
   "source": [
    "btc_price"
   ]
  },
  {
   "cell_type": "code",
   "execution_count": 7,
   "id": "cd8cbc81",
   "metadata": {},
   "outputs": [
    {
     "name": "stdout",
     "output_type": "stream",
     "text": [
      "Writing web_scrape.py\n"
     ]
    }
   ],
   "source": [
    "%%writefile web_scrape.py\n",
    "\n",
    "import requests \n",
    "import pandas as pd \n",
    "import matplotlib.pyplot as plt\n",
    "import seaborn as sns\n",
    "from bs4 import BeautifulSoup \n",
    "import datetime\n",
    "from datetime import datetime, timedelta\n",
    "import time\n",
    "import schedule\n",
    "import csv\n",
    "import h5py\n",
    "import pytrends\n",
    "from pytrends.request import TrendReq\n",
    "    \n",
    "today = datetime.now().date()\n",
    "today = str(today)\n",
    "\n",
    "Some_url = pd.read_csv('url_options.csv')\n",
    "#url = 'https://www.google.com/search?&q=bitcoin price in US'\n",
    "url = Some_url['list_url'].iloc[0]\n",
    "\n",
    "req = requests.get(url)\n",
    "scrap = BeautifulSoup(req.text, 'lxml')\n",
    "btc_price = scrap.find(\"div\", class_ = \"BNeawe iBp4i AP7Wnd\").text\n",
    "        \n",
    "def job(time, price):\n",
    "        \n",
    "    filedf = \"dailybtcprice.csv\"\n",
    "    \n",
    "    # write new data into csv\n",
    "    with open(filedf, 'a', newline='') as f:\n",
    "        writer = csv.writer(f)\n",
    "        writer.writerow([today, btc_price])\n",
    "        print(\"new row written\")     \n",
    "        \n",
    "schedule.every().day.at(\"09:00\").do(job)\n",
    "\n",
    "if __name__ == \"__main__\":\n",
    "    job(today, btc_price)"
   ]
  },
  {
   "cell_type": "code",
   "execution_count": 8,
   "id": "a4a0178c",
   "metadata": {},
   "outputs": [
    {
     "data": {
      "text/html": [
       "<div>\n",
       "<style scoped>\n",
       "    .dataframe tbody tr th:only-of-type {\n",
       "        vertical-align: middle;\n",
       "    }\n",
       "\n",
       "    .dataframe tbody tr th {\n",
       "        vertical-align: top;\n",
       "    }\n",
       "\n",
       "    .dataframe thead th {\n",
       "        text-align: right;\n",
       "    }\n",
       "</style>\n",
       "<table border=\"1\" class=\"dataframe\">\n",
       "  <thead>\n",
       "    <tr style=\"text-align: right;\">\n",
       "      <th></th>\n",
       "      <th>Date</th>\n",
       "      <th>BTC</th>\n",
       "    </tr>\n",
       "  </thead>\n",
       "  <tbody>\n",
       "    <tr>\n",
       "      <th>0</th>\n",
       "      <td>2022-02-01</td>\n",
       "      <td>38.777,80 Dolar Amerika Serikat</td>\n",
       "    </tr>\n",
       "    <tr>\n",
       "      <th>1</th>\n",
       "      <td>2022-02-02</td>\n",
       "      <td>36.859,90 Dolar Amerika Serikat</td>\n",
       "    </tr>\n",
       "    <tr>\n",
       "      <th>2</th>\n",
       "      <td>2022-02-03</td>\n",
       "      <td>37.077,90 Dolar Amerika Serikat</td>\n",
       "    </tr>\n",
       "  </tbody>\n",
       "</table>\n",
       "</div>"
      ],
      "text/plain": [
       "         Date                              BTC\n",
       "0  2022-02-01  38.777,80 Dolar Amerika Serikat\n",
       "1  2022-02-02  36.859,90 Dolar Amerika Serikat\n",
       "2  2022-02-03  37.077,90 Dolar Amerika Serikat"
      ]
     },
     "execution_count": 8,
     "metadata": {},
     "output_type": "execute_result"
    }
   ],
   "source": [
    "#read dataset csv\n",
    "df = pd.read_csv('dailybtcprice.csv')\n",
    "df.head(3)"
   ]
  },
  {
   "cell_type": "markdown",
   "id": "321c1fcc",
   "metadata": {},
   "source": [
    "### HDF5"
   ]
  },
  {
   "cell_type": "code",
   "execution_count": 9,
   "id": "a6d45b0e",
   "metadata": {},
   "outputs": [
    {
     "data": {
      "text/plain": [
       "<HDF5 dataset \"dailybtcprice2.h5\": shape (29, 6), type \"<f4\">"
      ]
     },
     "execution_count": 9,
     "metadata": {},
     "output_type": "execute_result"
    }
   ],
   "source": [
    "#Create empty HDF file\n",
    "file = h5py.File('dailybtcprice2.h5','w')\n",
    "\n",
    "#Create an empty dataset in HDF5 file\n",
    "filefh = file.create_dataset('dailybtcprice2.h5',(29,6))\n",
    "filefh"
   ]
  },
  {
   "cell_type": "code",
   "execution_count": 10,
   "id": "93d6f563",
   "metadata": {},
   "outputs": [
    {
     "data": {
      "text/plain": [
       "['dailybtcprice2.h5', 'w']"
      ]
     },
     "execution_count": 10,
     "metadata": {},
     "output_type": "execute_result"
    }
   ],
   "source": [
    "#write to dataset HDF5\n",
    "hf5 = df.to_hdf('dailybtcprice2.h5', 'w')\n",
    "#print('hf5 file saved')\n",
    "\n",
    "#read from dataset HDF5\n",
    "file = h5py.File('dailybtcprice2.h5','r+')\n",
    "list(file.keys())"
   ]
  },
  {
   "cell_type": "code",
   "execution_count": 11,
   "id": "d37449ce",
   "metadata": {},
   "outputs": [
    {
     "data": {
      "text/html": [
       "<div>\n",
       "<style scoped>\n",
       "    .dataframe tbody tr th:only-of-type {\n",
       "        vertical-align: middle;\n",
       "    }\n",
       "\n",
       "    .dataframe tbody tr th {\n",
       "        vertical-align: top;\n",
       "    }\n",
       "\n",
       "    .dataframe thead th {\n",
       "        text-align: right;\n",
       "    }\n",
       "</style>\n",
       "<table border=\"1\" class=\"dataframe\">\n",
       "  <thead>\n",
       "    <tr style=\"text-align: right;\">\n",
       "      <th></th>\n",
       "      <th>Date</th>\n",
       "      <th>BTC</th>\n",
       "    </tr>\n",
       "  </thead>\n",
       "  <tbody>\n",
       "    <tr>\n",
       "      <th>0</th>\n",
       "      <td>2022-02-01</td>\n",
       "      <td>38.777,80 Dolar Amerika Serikat</td>\n",
       "    </tr>\n",
       "    <tr>\n",
       "      <th>1</th>\n",
       "      <td>2022-02-02</td>\n",
       "      <td>36.859,90 Dolar Amerika Serikat</td>\n",
       "    </tr>\n",
       "    <tr>\n",
       "      <th>2</th>\n",
       "      <td>2022-02-03</td>\n",
       "      <td>37.077,90 Dolar Amerika Serikat</td>\n",
       "    </tr>\n",
       "  </tbody>\n",
       "</table>\n",
       "</div>"
      ],
      "text/plain": [
       "         Date                              BTC\n",
       "0  2022-02-01  38.777,80 Dolar Amerika Serikat\n",
       "1  2022-02-02  36.859,90 Dolar Amerika Serikat\n",
       "2  2022-02-03  37.077,90 Dolar Amerika Serikat"
      ]
     },
     "execution_count": 11,
     "metadata": {},
     "output_type": "execute_result"
    }
   ],
   "source": [
    "#Load the datasets\n",
    "hf = pd.read_hdf('dailybtcprice2.h5')\n",
    "hf.head(3)"
   ]
  },
  {
   "cell_type": "code",
   "execution_count": 12,
   "id": "d24c23ed",
   "metadata": {},
   "outputs": [
    {
     "data": {
      "text/html": [
       "<div>\n",
       "<style scoped>\n",
       "    .dataframe tbody tr th:only-of-type {\n",
       "        vertical-align: middle;\n",
       "    }\n",
       "\n",
       "    .dataframe tbody tr th {\n",
       "        vertical-align: top;\n",
       "    }\n",
       "\n",
       "    .dataframe thead th {\n",
       "        text-align: right;\n",
       "    }\n",
       "</style>\n",
       "<table border=\"1\" class=\"dataframe\">\n",
       "  <thead>\n",
       "    <tr style=\"text-align: right;\">\n",
       "      <th></th>\n",
       "      <th>Date</th>\n",
       "      <th>BTC</th>\n",
       "      <th>BTC_Price</th>\n",
       "      <th>BTC_Currency</th>\n",
       "    </tr>\n",
       "  </thead>\n",
       "  <tbody>\n",
       "    <tr>\n",
       "      <th>21</th>\n",
       "      <td>2022-02-22</td>\n",
       "      <td>37.669,10 Dolar Amerika Serikat</td>\n",
       "      <td>37.669</td>\n",
       "      <td>Dolar Amerika Serikat</td>\n",
       "    </tr>\n",
       "    <tr>\n",
       "      <th>22</th>\n",
       "      <td>2022-02-23</td>\n",
       "      <td>37.478,10 Dolar Amerika Serikat</td>\n",
       "      <td>37.478</td>\n",
       "      <td>Dolar Amerika Serikat</td>\n",
       "    </tr>\n",
       "    <tr>\n",
       "      <th>23</th>\n",
       "      <td>2022-02-24</td>\n",
       "      <td>37.627,40 Dolar Amerika Serikat</td>\n",
       "      <td>37.627</td>\n",
       "      <td>Dolar Amerika Serikat</td>\n",
       "    </tr>\n",
       "  </tbody>\n",
       "</table>\n",
       "</div>"
      ],
      "text/plain": [
       "          Date                              BTC BTC_Price  \\\n",
       "21  2022-02-22  37.669,10 Dolar Amerika Serikat    37.669   \n",
       "22  2022-02-23  37.478,10 Dolar Amerika Serikat    37.478   \n",
       "23  2022-02-24  37.627,40 Dolar Amerika Serikat    37.627   \n",
       "\n",
       "             BTC_Currency  \n",
       "21  Dolar Amerika Serikat  \n",
       "22  Dolar Amerika Serikat  \n",
       "23  Dolar Amerika Serikat  "
      ]
     },
     "execution_count": 12,
     "metadata": {},
     "output_type": "execute_result"
    }
   ],
   "source": [
    "#Slice datasets HDF5\n",
    "hf['BTC_Price'] = hf['BTC'].str.slice(0, 6)\n",
    "hf['BTC_Currency'] = hf['BTC'].str.slice(10, 31)\n",
    "hf.tail(3)"
   ]
  },
  {
   "cell_type": "code",
   "execution_count": 13,
   "id": "96dde4f3",
   "metadata": {},
   "outputs": [
    {
     "data": {
      "text/html": [
       "<div>\n",
       "<style scoped>\n",
       "    .dataframe tbody tr th:only-of-type {\n",
       "        vertical-align: middle;\n",
       "    }\n",
       "\n",
       "    .dataframe tbody tr th {\n",
       "        vertical-align: top;\n",
       "    }\n",
       "\n",
       "    .dataframe thead th {\n",
       "        text-align: right;\n",
       "    }\n",
       "</style>\n",
       "<table border=\"1\" class=\"dataframe\">\n",
       "  <thead>\n",
       "    <tr style=\"text-align: right;\">\n",
       "      <th></th>\n",
       "      <th>Date</th>\n",
       "      <th>BTC_Price</th>\n",
       "    </tr>\n",
       "  </thead>\n",
       "  <tbody>\n",
       "    <tr>\n",
       "      <th>0</th>\n",
       "      <td>2022-02-01</td>\n",
       "      <td>38.777</td>\n",
       "    </tr>\n",
       "    <tr>\n",
       "      <th>1</th>\n",
       "      <td>2022-02-02</td>\n",
       "      <td>36.859</td>\n",
       "    </tr>\n",
       "    <tr>\n",
       "      <th>2</th>\n",
       "      <td>2022-02-03</td>\n",
       "      <td>37.077</td>\n",
       "    </tr>\n",
       "  </tbody>\n",
       "</table>\n",
       "</div>"
      ],
      "text/plain": [
       "         Date BTC_Price\n",
       "0  2022-02-01    38.777\n",
       "1  2022-02-02    36.859\n",
       "2  2022-02-03    37.077"
      ]
     },
     "execution_count": 13,
     "metadata": {},
     "output_type": "execute_result"
    }
   ],
   "source": [
    "#drop unused Columns in HDF5 file\n",
    "hf=hf.drop(['BTC','BTC_Currency'], axis = 1)\n",
    "hf.head(3)"
   ]
  },
  {
   "cell_type": "code",
   "execution_count": 14,
   "id": "ea861269",
   "metadata": {},
   "outputs": [
    {
     "data": {
      "text/plain": [
       "dtype('O')"
      ]
     },
     "execution_count": 14,
     "metadata": {},
     "output_type": "execute_result"
    }
   ],
   "source": [
    "hf[\"Date\"].dtypes"
   ]
  },
  {
   "cell_type": "code",
   "execution_count": 15,
   "id": "69c07cdc",
   "metadata": {},
   "outputs": [
    {
     "data": {
      "text/plain": [
       "Date          object\n",
       "BTC_Price    float64\n",
       "dtype: object"
      ]
     },
     "execution_count": 15,
     "metadata": {},
     "output_type": "execute_result"
    }
   ],
   "source": [
    "#Change dtypes from str become float\n",
    "\n",
    "hf['BTC_Price'] = hf[('BTC_Price')].astype(float)\n",
    "hf.dtypes"
   ]
  },
  {
   "cell_type": "code",
   "execution_count": 16,
   "id": "2643a430",
   "metadata": {},
   "outputs": [
    {
     "data": {
      "image/png": "[encoded data removed]",
      "text/plain": [
       "<Figure size 864x288 with 1 Axes>"
      ]
     },
     "metadata": {},
     "output_type": "display_data"
    }
   ],
   "source": [
    "#Plot BTC Time Series\n",
    "\n",
    "plt.style.use(\"fivethirtyeight\")\n",
    "plt.figure(figsize=(12, 4))\n",
    "\n",
    "plt.xlabel(\"Date\")\n",
    "plt.ylabel(\"Values\")\n",
    "plt.title(\"BTC-Price in US Time Series\")\n",
    " \n",
    "# plotting the columns\n",
    "plt.plot(hf[\"BTC_Price\"], label = 'BTC_Price', color = 'r')\n",
    "plt.legend()\n",
    "plt.savefig(\"BTC_US_Time Series_FEBRUARY2022.jpg\",transparent=False, bbox_inches='tight',pad_inches=0.1)"
   ]
  },
  {
   "cell_type": "markdown",
   "id": "06efef25",
   "metadata": {},
   "source": [
    "### csv"
   ]
  },
  {
   "cell_type": "code",
   "execution_count": 17,
   "id": "90972526",
   "metadata": {},
   "outputs": [
    {
     "data": {
      "text/html": [
       "<div>\n",
       "<style scoped>\n",
       "    .dataframe tbody tr th:only-of-type {\n",
       "        vertical-align: middle;\n",
       "    }\n",
       "\n",
       "    .dataframe tbody tr th {\n",
       "        vertical-align: top;\n",
       "    }\n",
       "\n",
       "    .dataframe thead th {\n",
       "        text-align: right;\n",
       "    }\n",
       "</style>\n",
       "<table border=\"1\" class=\"dataframe\">\n",
       "  <thead>\n",
       "    <tr style=\"text-align: right;\">\n",
       "      <th></th>\n",
       "      <th>Date</th>\n",
       "      <th>BTC</th>\n",
       "      <th>BTC_Price</th>\n",
       "      <th>BTC_Currency</th>\n",
       "    </tr>\n",
       "  </thead>\n",
       "  <tbody>\n",
       "    <tr>\n",
       "      <th>0</th>\n",
       "      <td>2022-02-01</td>\n",
       "      <td>38.777,80 Dolar Amerika Serikat</td>\n",
       "      <td>38.777</td>\n",
       "      <td>Dolar Amerika Serikat</td>\n",
       "    </tr>\n",
       "    <tr>\n",
       "      <th>1</th>\n",
       "      <td>2022-02-02</td>\n",
       "      <td>36.859,90 Dolar Amerika Serikat</td>\n",
       "      <td>36.859</td>\n",
       "      <td>Dolar Amerika Serikat</td>\n",
       "    </tr>\n",
       "    <tr>\n",
       "      <th>2</th>\n",
       "      <td>2022-02-03</td>\n",
       "      <td>37.077,90 Dolar Amerika Serikat</td>\n",
       "      <td>37.077</td>\n",
       "      <td>Dolar Amerika Serikat</td>\n",
       "    </tr>\n",
       "  </tbody>\n",
       "</table>\n",
       "</div>"
      ],
      "text/plain": [
       "         Date                              BTC BTC_Price  \\\n",
       "0  2022-02-01  38.777,80 Dolar Amerika Serikat    38.777   \n",
       "1  2022-02-02  36.859,90 Dolar Amerika Serikat    36.859   \n",
       "2  2022-02-03  37.077,90 Dolar Amerika Serikat    37.077   \n",
       "\n",
       "            BTC_Currency  \n",
       "0  Dolar Amerika Serikat  \n",
       "1  Dolar Amerika Serikat  \n",
       "2  Dolar Amerika Serikat  "
      ]
     },
     "execution_count": 17,
     "metadata": {},
     "output_type": "execute_result"
    }
   ],
   "source": [
    "#Slice datasets csv\n",
    "df['BTC_Price'] = df['BTC'].str.slice(0, 6)\n",
    "df['BTC_Currency'] = df['BTC'].str.slice(10, 31)\n",
    "df.head(3)"
   ]
  },
  {
   "cell_type": "code",
   "execution_count": 18,
   "id": "ec60f03b",
   "metadata": {},
   "outputs": [
    {
     "data": {
      "text/html": [
       "<div>\n",
       "<style scoped>\n",
       "    .dataframe tbody tr th:only-of-type {\n",
       "        vertical-align: middle;\n",
       "    }\n",
       "\n",
       "    .dataframe tbody tr th {\n",
       "        vertical-align: top;\n",
       "    }\n",
       "\n",
       "    .dataframe thead th {\n",
       "        text-align: right;\n",
       "    }\n",
       "</style>\n",
       "<table border=\"1\" class=\"dataframe\">\n",
       "  <thead>\n",
       "    <tr style=\"text-align: right;\">\n",
       "      <th></th>\n",
       "      <th>Date</th>\n",
       "      <th>BTC_Price</th>\n",
       "    </tr>\n",
       "  </thead>\n",
       "  <tbody>\n",
       "    <tr>\n",
       "      <th>0</th>\n",
       "      <td>2022-02-01</td>\n",
       "      <td>38.777</td>\n",
       "    </tr>\n",
       "    <tr>\n",
       "      <th>1</th>\n",
       "      <td>2022-02-02</td>\n",
       "      <td>36.859</td>\n",
       "    </tr>\n",
       "    <tr>\n",
       "      <th>2</th>\n",
       "      <td>2022-02-03</td>\n",
       "      <td>37.077</td>\n",
       "    </tr>\n",
       "    <tr>\n",
       "      <th>3</th>\n",
       "      <td>2022-02-04</td>\n",
       "      <td>37.558</td>\n",
       "    </tr>\n",
       "    <tr>\n",
       "      <th>4</th>\n",
       "      <td>2022-02-05</td>\n",
       "      <td>41.433</td>\n",
       "    </tr>\n",
       "    <tr>\n",
       "      <th>5</th>\n",
       "      <td>2022-02-06</td>\n",
       "      <td>42.415</td>\n",
       "    </tr>\n",
       "    <tr>\n",
       "      <th>6</th>\n",
       "      <td>2022-02-07</td>\n",
       "      <td>43.919</td>\n",
       "    </tr>\n",
       "    <tr>\n",
       "      <th>7</th>\n",
       "      <td>2022-02-08</td>\n",
       "      <td>44.130</td>\n",
       "    </tr>\n",
       "    <tr>\n",
       "      <th>8</th>\n",
       "      <td>2022-02-09</td>\n",
       "      <td>44.339</td>\n",
       "    </tr>\n",
       "    <tr>\n",
       "      <th>9</th>\n",
       "      <td>2022-02-10</td>\n",
       "      <td>43.517</td>\n",
       "    </tr>\n",
       "    <tr>\n",
       "      <th>10</th>\n",
       "      <td>2022-02-11</td>\n",
       "      <td>42.400</td>\n",
       "    </tr>\n",
       "    <tr>\n",
       "      <th>11</th>\n",
       "      <td>2022-02-12</td>\n",
       "      <td>42.178</td>\n",
       "    </tr>\n",
       "    <tr>\n",
       "      <th>12</th>\n",
       "      <td>2022-02-13</td>\n",
       "      <td>42.075</td>\n",
       "    </tr>\n",
       "    <tr>\n",
       "      <th>13</th>\n",
       "      <td>2022-02-14</td>\n",
       "      <td>42.548</td>\n",
       "    </tr>\n",
       "    <tr>\n",
       "      <th>14</th>\n",
       "      <td>2022-02-15</td>\n",
       "      <td>44.591</td>\n",
       "    </tr>\n",
       "    <tr>\n",
       "      <th>15</th>\n",
       "      <td>2022-02-16</td>\n",
       "      <td>43.986</td>\n",
       "    </tr>\n",
       "    <tr>\n",
       "      <th>16</th>\n",
       "      <td>2022-02-17</td>\n",
       "      <td>40.546</td>\n",
       "    </tr>\n",
       "    <tr>\n",
       "      <th>17</th>\n",
       "      <td>2022-02-18</td>\n",
       "      <td>39.983</td>\n",
       "    </tr>\n",
       "    <tr>\n",
       "      <th>18</th>\n",
       "      <td>2022-02-19</td>\n",
       "      <td>40.147</td>\n",
       "    </tr>\n",
       "    <tr>\n",
       "      <th>19</th>\n",
       "      <td>2022-02-20</td>\n",
       "      <td>38.389</td>\n",
       "    </tr>\n",
       "    <tr>\n",
       "      <th>20</th>\n",
       "      <td>2022-02-21</td>\n",
       "      <td>37.023</td>\n",
       "    </tr>\n",
       "    <tr>\n",
       "      <th>21</th>\n",
       "      <td>2022-02-22</td>\n",
       "      <td>37.669</td>\n",
       "    </tr>\n",
       "    <tr>\n",
       "      <th>22</th>\n",
       "      <td>2022-02-23</td>\n",
       "      <td>37.478</td>\n",
       "    </tr>\n",
       "    <tr>\n",
       "      <th>23</th>\n",
       "      <td>2022-02-24</td>\n",
       "      <td>37.627</td>\n",
       "    </tr>\n",
       "  </tbody>\n",
       "</table>\n",
       "</div>"
      ],
      "text/plain": [
       "          Date BTC_Price\n",
       "0   2022-02-01    38.777\n",
       "1   2022-02-02    36.859\n",
       "2   2022-02-03    37.077\n",
       "3   2022-02-04    37.558\n",
       "4   2022-02-05    41.433\n",
       "5   2022-02-06    42.415\n",
       "6   2022-02-07    43.919\n",
       "7   2022-02-08    44.130\n",
       "8   2022-02-09    44.339\n",
       "9   2022-02-10    43.517\n",
       "10  2022-02-11    42.400\n",
       "11  2022-02-12    42.178\n",
       "12  2022-02-13    42.075\n",
       "13  2022-02-14    42.548\n",
       "14  2022-02-15    44.591\n",
       "15  2022-02-16    43.986\n",
       "16  2022-02-17    40.546\n",
       "17  2022-02-18    39.983\n",
       "18  2022-02-19    40.147\n",
       "19  2022-02-20    38.389\n",
       "20  2022-02-21    37.023\n",
       "21  2022-02-22    37.669\n",
       "22  2022-02-23    37.478\n",
       "23  2022-02-24    37.627"
      ]
     },
     "execution_count": 18,
     "metadata": {},
     "output_type": "execute_result"
    }
   ],
   "source": [
    "#drop unused Columns\n",
    "df=df.drop(['BTC','BTC_Currency'], axis = 1)\n",
    "df"
   ]
  },
  {
   "cell_type": "code",
   "execution_count": 19,
   "id": "477a7fb3",
   "metadata": {},
   "outputs": [
    {
     "data": {
      "text/plain": [
       "Date          object\n",
       "BTC_Price    float64\n",
       "dtype: object"
      ]
     },
     "execution_count": 19,
     "metadata": {},
     "output_type": "execute_result"
    }
   ],
   "source": [
    "#Change dtypes from str become float\n",
    "\n",
    "df['BTC_Price'] = df[('BTC_Price')].astype(float)\n",
    "df.dtypes"
   ]
  },
  {
   "cell_type": "code",
   "execution_count": 20,
   "id": "03df3b6e",
   "metadata": {},
   "outputs": [
    {
     "data": {
      "image/png": "[encoded data removed]",
      "text/plain": [
       "<Figure size 864x288 with 1 Axes>"
      ]
     },
     "metadata": {},
     "output_type": "display_data"
    }
   ],
   "source": [
    "#Plot BTC Time Series\n",
    "\n",
    "plt.style.use(\"fivethirtyeight\")\n",
    "plt.figure(figsize=(12, 4))\n",
    "\n",
    "plt.xlabel(\"Date\")\n",
    "plt.ylabel(\"Values\")\n",
    "plt.title(\"BTC-Price in US Time Series\")\n",
    " \n",
    "# plotting the columns\n",
    "plt.plot(df[\"BTC_Price\"], label = 'BTC_Price', color = 'r')\n",
    "plt.legend()\n",
    "plt.savefig(\"BTC_US_Time Series_FEBRUARY2022.jpg\",transparent=False, bbox_inches='tight',pad_inches=0.1)"
   ]
  },
  {
   "cell_type": "markdown",
   "id": "6593a69a",
   "metadata": {},
   "source": [
    "## Google Trends"
   ]
  },
  {
   "cell_type": "code",
   "execution_count": 21,
   "id": "99f997ca",
   "metadata": {},
   "outputs": [
    {
     "data": {
      "text/html": [
       "<div>\n",
       "<style scoped>\n",
       "    .dataframe tbody tr th:only-of-type {\n",
       "        vertical-align: middle;\n",
       "    }\n",
       "\n",
       "    .dataframe tbody tr th {\n",
       "        vertical-align: top;\n",
       "    }\n",
       "\n",
       "    .dataframe thead th {\n",
       "        text-align: right;\n",
       "    }\n",
       "</style>\n",
       "<table border=\"1\" class=\"dataframe\">\n",
       "  <thead>\n",
       "    <tr style=\"text-align: right;\">\n",
       "      <th></th>\n",
       "      <th>date</th>\n",
       "      <th>BTC_Trends_US</th>\n",
       "    </tr>\n",
       "  </thead>\n",
       "  <tbody>\n",
       "    <tr>\n",
       "      <th>0</th>\n",
       "      <td>2022-02-01</td>\n",
       "      <td>88</td>\n",
       "    </tr>\n",
       "    <tr>\n",
       "      <th>1</th>\n",
       "      <td>2022-02-02</td>\n",
       "      <td>83</td>\n",
       "    </tr>\n",
       "    <tr>\n",
       "      <th>2</th>\n",
       "      <td>2022-02-03</td>\n",
       "      <td>86</td>\n",
       "    </tr>\n",
       "    <tr>\n",
       "      <th>3</th>\n",
       "      <td>2022-02-04</td>\n",
       "      <td>91</td>\n",
       "    </tr>\n",
       "    <tr>\n",
       "      <th>4</th>\n",
       "      <td>2022-02-05</td>\n",
       "      <td>96</td>\n",
       "    </tr>\n",
       "    <tr>\n",
       "      <th>5</th>\n",
       "      <td>2022-02-06</td>\n",
       "      <td>80</td>\n",
       "    </tr>\n",
       "    <tr>\n",
       "      <th>6</th>\n",
       "      <td>2022-02-07</td>\n",
       "      <td>100</td>\n",
       "    </tr>\n",
       "    <tr>\n",
       "      <th>7</th>\n",
       "      <td>2022-02-08</td>\n",
       "      <td>94</td>\n",
       "    </tr>\n",
       "    <tr>\n",
       "      <th>8</th>\n",
       "      <td>2022-02-09</td>\n",
       "      <td>99</td>\n",
       "    </tr>\n",
       "    <tr>\n",
       "      <th>9</th>\n",
       "      <td>2022-02-10</td>\n",
       "      <td>90</td>\n",
       "    </tr>\n",
       "    <tr>\n",
       "      <th>10</th>\n",
       "      <td>2022-02-11</td>\n",
       "      <td>83</td>\n",
       "    </tr>\n",
       "    <tr>\n",
       "      <th>11</th>\n",
       "      <td>2022-02-12</td>\n",
       "      <td>77</td>\n",
       "    </tr>\n",
       "    <tr>\n",
       "      <th>12</th>\n",
       "      <td>2022-02-13</td>\n",
       "      <td>70</td>\n",
       "    </tr>\n",
       "    <tr>\n",
       "      <th>13</th>\n",
       "      <td>2022-02-14</td>\n",
       "      <td>85</td>\n",
       "    </tr>\n",
       "    <tr>\n",
       "      <th>14</th>\n",
       "      <td>2022-02-15</td>\n",
       "      <td>86</td>\n",
       "    </tr>\n",
       "    <tr>\n",
       "      <th>15</th>\n",
       "      <td>2022-02-16</td>\n",
       "      <td>81</td>\n",
       "    </tr>\n",
       "    <tr>\n",
       "      <th>16</th>\n",
       "      <td>2022-02-17</td>\n",
       "      <td>83</td>\n",
       "    </tr>\n",
       "    <tr>\n",
       "      <th>17</th>\n",
       "      <td>2022-02-18</td>\n",
       "      <td>84</td>\n",
       "    </tr>\n",
       "    <tr>\n",
       "      <th>18</th>\n",
       "      <td>2022-02-19</td>\n",
       "      <td>74</td>\n",
       "    </tr>\n",
       "    <tr>\n",
       "      <th>19</th>\n",
       "      <td>2022-02-20</td>\n",
       "      <td>87</td>\n",
       "    </tr>\n",
       "  </tbody>\n",
       "</table>\n",
       "</div>"
      ],
      "text/plain": [
       "         date  BTC_Trends_US\n",
       "0  2022-02-01             88\n",
       "1  2022-02-02             83\n",
       "2  2022-02-03             86\n",
       "3  2022-02-04             91\n",
       "4  2022-02-05             96\n",
       "5  2022-02-06             80\n",
       "6  2022-02-07            100\n",
       "7  2022-02-08             94\n",
       "8  2022-02-09             99\n",
       "9  2022-02-10             90\n",
       "10 2022-02-11             83\n",
       "11 2022-02-12             77\n",
       "12 2022-02-13             70\n",
       "13 2022-02-14             85\n",
       "14 2022-02-15             86\n",
       "15 2022-02-16             81\n",
       "16 2022-02-17             83\n",
       "17 2022-02-18             84\n",
       "18 2022-02-19             74\n",
       "19 2022-02-20             87"
      ]
     },
     "execution_count": 21,
     "metadata": {},
     "output_type": "execute_result"
    }
   ],
   "source": [
    "#https://en.wikipedia.org/wiki/List_of_ISO_3166_country_codes\n",
    "\n",
    "pytrend = TrendReq()\n",
    "keys=['Bitcoin'] \n",
    "country=[\"US\"]\n",
    "keys_codes=[pytrend.suggestions(keyword=i)[0] for i in keys] \n",
    "df_codes= pd.DataFrame(keys_codes)\n",
    "\n",
    "real_keys=df_codes['mid'].to_list()\n",
    "specific_real_key = list(zip(*[iter(real_keys)]*1))\n",
    "specific_real_key = [list(x) for x in specific_real_key]\n",
    "\n",
    "collect = {}\n",
    "i = 1\n",
    "for country in country:\n",
    "    for key in specific_real_key:\n",
    "        pytrend.build_payload(kw_list=key, timeframe = ('2022-02-01 2022-02-20'), \n",
    "            geo = country, cat=0, gprop=\"\") \n",
    "        collect[i] = pytrend.interest_over_time()\n",
    "        i+=1\n",
    "df_trends = pd.concat(collect, axis=1)\n",
    "\n",
    "df_trends.columns = df_trends.columns.droplevel(0) \n",
    "df_trends = df_trends.drop('isPartial', axis = 1) \n",
    "df_trends.reset_index(level=0,inplace=True) \n",
    "\n",
    "#change column names\n",
    "df_trends.columns=['date','BTC_Trends_US']  \n",
    "df_trends.head(29)"
   ]
  },
  {
   "cell_type": "code",
   "execution_count": 22,
   "id": "76645c95",
   "metadata": {},
   "outputs": [
    {
     "name": "stdout",
     "output_type": "stream",
     "text": [
      "csv file trends saved\n",
      "h5File_df_trends file saved\n"
     ]
    }
   ],
   "source": [
    "#Save as HDF5 dataset\n",
    "\n",
    "today = datetime.now().date()\n",
    "today = str(today)\n",
    "df_trends.to_csv(today + '_trends.csv','w')\n",
    "print(\"csv file trends saved\")\n",
    "\n",
    "h5File_df_trends = (today + '_trends.h5')\n",
    "df_trends.to_hdf(h5File_df_trends, 'w')\n",
    "print('h5File_df_trends file saved')"
   ]
  },
  {
   "cell_type": "code",
   "execution_count": 23,
   "id": "4543d5e9",
   "metadata": {},
   "outputs": [
    {
     "data": {
      "text/html": [
       "<div>\n",
       "<style scoped>\n",
       "    .dataframe tbody tr th:only-of-type {\n",
       "        vertical-align: middle;\n",
       "    }\n",
       "\n",
       "    .dataframe tbody tr th {\n",
       "        vertical-align: top;\n",
       "    }\n",
       "\n",
       "    .dataframe thead th {\n",
       "        text-align: right;\n",
       "    }\n",
       "</style>\n",
       "<table border=\"1\" class=\"dataframe\">\n",
       "  <thead>\n",
       "    <tr style=\"text-align: right;\">\n",
       "      <th></th>\n",
       "      <th>date</th>\n",
       "      <th>BTC_Trends_US</th>\n",
       "    </tr>\n",
       "  </thead>\n",
       "  <tbody>\n",
       "    <tr>\n",
       "      <th>17</th>\n",
       "      <td>2022-02-18</td>\n",
       "      <td>84</td>\n",
       "    </tr>\n",
       "    <tr>\n",
       "      <th>18</th>\n",
       "      <td>2022-02-19</td>\n",
       "      <td>74</td>\n",
       "    </tr>\n",
       "    <tr>\n",
       "      <th>19</th>\n",
       "      <td>2022-02-20</td>\n",
       "      <td>87</td>\n",
       "    </tr>\n",
       "  </tbody>\n",
       "</table>\n",
       "</div>"
      ],
      "text/plain": [
       "         date  BTC_Trends_US\n",
       "17 2022-02-18             84\n",
       "18 2022-02-19             74\n",
       "19 2022-02-20             87"
      ]
     },
     "execution_count": 23,
     "metadata": {},
     "output_type": "execute_result"
    }
   ],
   "source": [
    "#Load the datasets\n",
    "hf_trends = pd.read_hdf(h5File_df_trends)\n",
    "hf_trends.tail(3)"
   ]
  },
  {
   "cell_type": "code",
   "execution_count": 24,
   "id": "62288feb",
   "metadata": {},
   "outputs": [
    {
     "data": {
      "image/png": "[encoded data removed]",
      "text/plain": [
       "<Figure size 1080x288 with 1 Axes>"
      ]
     },
     "metadata": {},
     "output_type": "display_data"
    }
   ],
   "source": [
    "plt.style.use(\"fivethirtyeight\")\n",
    "plt.figure(figsize=(15, 4))\n",
    "\n",
    "plt.xlabel(\"date\")\n",
    "plt.ylabel(\"Index Trends\")\n",
    "plt.title(\"BTC Google Trends FEBRUARY 2022\")\n",
    " \n",
    "# plotting the columns\n",
    "plt.plot(hf_trends[\"BTC_Trends_US\"], label = 'BTC_Trends')\n",
    "plt.legend()\n",
    "plt.savefig(\"BTC_Trends_FEB2022.jpg\",transparent=False, bbox_inches='tight',pad_inches=0.1)"
   ]
  },
  {
   "cell_type": "code",
   "execution_count": 25,
   "id": "5994098d",
   "metadata": {},
   "outputs": [
    {
     "data": {
      "image/png": "[encoded data removed]",
      "text/plain": [
       "<Figure size 864x288 with 1 Axes>"
      ]
     },
     "metadata": {},
     "output_type": "display_data"
    }
   ],
   "source": [
    "sns.set(color_codes=True, palette='deep')\n",
    "ht = hf_trends.plot(figsize = (12,4),x=\"date\", y=['BTC_Trends_US'], title = \"BTC Google Trends FEBRUARY 2022\", kind=\"line\")\n",
    "ht.set_ylabel('Index Trends')\n",
    "ht.tick_params( which='both', axis='both', labelsize=12)\n",
    "plt.savefig(\"BTC_Google_Trends_FEBRUARY2022.jpg\",transparent=False, bbox_inches='tight',pad_inches=0.1)"
   ]
  },
  {
   "cell_type": "code",
   "execution_count": 26,
   "id": "a2111d7c",
   "metadata": {},
   "outputs": [
    {
     "data": {
      "image/png": "[encoded data removed]",
      "text/plain": [
       "<Figure size 576x864 with 1 Axes>"
      ]
     },
     "metadata": {},
     "output_type": "display_data"
    }
   ],
   "source": [
    "#Plot BTC Time Series and Google Trends before standardized\n",
    "\n",
    "plt.style.use(\"fivethirtyeight\")\n",
    "plt.figure(figsize=(8, 12))\n",
    "\n",
    "plt.xlabel(\"Date\")\n",
    "plt.ylabel(\"Values\")\n",
    "plt.title(\"BTC-Price in US Time Series\")\n",
    " \n",
    "# plotting the columns\n",
    "plt.plot(df[\"BTC_Price\"], label = 'BTC_Price', color = 'r')\n",
    "plt.plot(hf_trends[\"BTC_Trends_US\"], label = 'BTC_Trends')\n",
    "plt.legend()\n",
    "plt.savefig(\"BTC_vs Trends_FEBRUARY2022.jpg\",transparent=False, bbox_inches='tight',pad_inches=0.1)"
   ]
  },
  {
   "cell_type": "markdown",
   "id": "7ac15b0f",
   "metadata": {},
   "source": [
    "### Standarize BTC Price and BTC Trends "
   ]
  },
  {
   "cell_type": "code",
   "execution_count": 27,
   "id": "dd30212a",
   "metadata": {},
   "outputs": [
    {
     "data": {
      "text/html": [
       "<div>\n",
       "<style scoped>\n",
       "    .dataframe tbody tr th:only-of-type {\n",
       "        vertical-align: middle;\n",
       "    }\n",
       "\n",
       "    .dataframe tbody tr th {\n",
       "        vertical-align: top;\n",
       "    }\n",
       "\n",
       "    .dataframe thead th {\n",
       "        text-align: right;\n",
       "    }\n",
       "</style>\n",
       "<table border=\"1\" class=\"dataframe\">\n",
       "  <thead>\n",
       "    <tr style=\"text-align: right;\">\n",
       "      <th></th>\n",
       "      <th>Date</th>\n",
       "      <th>BTC_Price</th>\n",
       "    </tr>\n",
       "  </thead>\n",
       "  <tbody>\n",
       "    <tr>\n",
       "      <th>0</th>\n",
       "      <td>2022-02-01</td>\n",
       "      <td>0.248060</td>\n",
       "    </tr>\n",
       "    <tr>\n",
       "      <th>1</th>\n",
       "      <td>2022-02-02</td>\n",
       "      <td>0.000000</td>\n",
       "    </tr>\n",
       "    <tr>\n",
       "      <th>2</th>\n",
       "      <td>2022-02-03</td>\n",
       "      <td>0.028195</td>\n",
       "    </tr>\n",
       "    <tr>\n",
       "      <th>3</th>\n",
       "      <td>2022-02-04</td>\n",
       "      <td>0.090404</td>\n",
       "    </tr>\n",
       "  </tbody>\n",
       "</table>\n",
       "</div>"
      ],
      "text/plain": [
       "         Date  BTC_Price\n",
       "0  2022-02-01   0.248060\n",
       "1  2022-02-02   0.000000\n",
       "2  2022-02-03   0.028195\n",
       "3  2022-02-04   0.090404"
      ]
     },
     "execution_count": 27,
     "metadata": {},
     "output_type": "execute_result"
    }
   ],
   "source": [
    "from sklearn.preprocessing import MinMaxScaler\n",
    "scaler = MinMaxScaler()\n",
    "\n",
    "for df in [df]:\n",
    "    df['BTC_Price'] = scaler.fit_transform(df['BTC_Price'].to_numpy().reshape(-1, 1))    \n",
    "df.head(4)    "
   ]
  },
  {
   "cell_type": "code",
   "execution_count": 28,
   "id": "99cfacf1",
   "metadata": {},
   "outputs": [
    {
     "data": {
      "text/html": [
       "<div>\n",
       "<style scoped>\n",
       "    .dataframe tbody tr th:only-of-type {\n",
       "        vertical-align: middle;\n",
       "    }\n",
       "\n",
       "    .dataframe tbody tr th {\n",
       "        vertical-align: top;\n",
       "    }\n",
       "\n",
       "    .dataframe thead th {\n",
       "        text-align: right;\n",
       "    }\n",
       "</style>\n",
       "<table border=\"1\" class=\"dataframe\">\n",
       "  <thead>\n",
       "    <tr style=\"text-align: right;\">\n",
       "      <th></th>\n",
       "      <th>date</th>\n",
       "      <th>BTC_Trends_US</th>\n",
       "    </tr>\n",
       "  </thead>\n",
       "  <tbody>\n",
       "    <tr>\n",
       "      <th>0</th>\n",
       "      <td>2022-02-01</td>\n",
       "      <td>0.600000</td>\n",
       "    </tr>\n",
       "    <tr>\n",
       "      <th>1</th>\n",
       "      <td>2022-02-02</td>\n",
       "      <td>0.433333</td>\n",
       "    </tr>\n",
       "    <tr>\n",
       "      <th>2</th>\n",
       "      <td>2022-02-03</td>\n",
       "      <td>0.533333</td>\n",
       "    </tr>\n",
       "    <tr>\n",
       "      <th>3</th>\n",
       "      <td>2022-02-04</td>\n",
       "      <td>0.700000</td>\n",
       "    </tr>\n",
       "  </tbody>\n",
       "</table>\n",
       "</div>"
      ],
      "text/plain": [
       "        date  BTC_Trends_US\n",
       "0 2022-02-01       0.600000\n",
       "1 2022-02-02       0.433333\n",
       "2 2022-02-03       0.533333\n",
       "3 2022-02-04       0.700000"
      ]
     },
     "execution_count": 28,
     "metadata": {},
     "output_type": "execute_result"
    }
   ],
   "source": [
    "from sklearn.preprocessing import MinMaxScaler\n",
    "scaler = MinMaxScaler()\n",
    "\n",
    "for hf_trends in [hf_trends]:\n",
    "    hf_trends[\"BTC_Trends_US\"] = scaler.fit_transform(hf_trends[\"BTC_Trends_US\"].to_numpy().reshape(-1, 1))    \n",
    "hf_trends.head(4)   "
   ]
  },
  {
   "cell_type": "code",
   "execution_count": 29,
   "id": "950e0b79",
   "metadata": {},
   "outputs": [
    {
     "data": {
      "image/png": "[encoded data removed]",
      "text/plain": [
       "<Figure size 1296x288 with 1 Axes>"
      ]
     },
     "metadata": {},
     "output_type": "display_data"
    }
   ],
   "source": [
    "#Plot STANDARDIZED BTC Time Series and Google Trends\n",
    "\n",
    "plt.style.use(\"fivethirtyeight\")\n",
    "plt.figure(figsize=(18, 4))\n",
    "\n",
    "plt.xlabel(\"Date\")\n",
    "plt.ylabel(\"Values\")\n",
    "plt.title(\"BTC-Price in US Time Series After Standardized\")\n",
    " \n",
    "# plotting the columns\n",
    "plt.plot(df[\"BTC_Price\"], label = 'BTC_Price standardized', color = 'r')\n",
    "plt.plot(hf_trends[\"BTC_Trends_US\"], label = 'BTC_Trends standardized')\n",
    "plt.legend()\n",
    "plt.savefig(\"BTC_vs Trends_FEBRUARY2022_Standardized.jpg\",transparent=False, bbox_inches='tight',pad_inches=0.1)"
   ]
  },
  {
   "cell_type": "code",
   "execution_count": 30,
   "id": "016ff217",
   "metadata": {},
   "outputs": [
    {
     "data": {
      "text/plain": [
       "dtype('<M8[ns]')"
      ]
     },
     "execution_count": 30,
     "metadata": {},
     "output_type": "execute_result"
    }
   ],
   "source": [
    "hf_trends[\"date\"].dtypes"
   ]
  },
  {
   "cell_type": "code",
   "execution_count": 31,
   "id": "167cc17a",
   "metadata": {},
   "outputs": [
    {
     "data": {
      "text/plain": [
       "dtype('O')"
      ]
     },
     "execution_count": 31,
     "metadata": {},
     "output_type": "execute_result"
    }
   ],
   "source": [
    "#Change datatype\n",
    "hf_trends[\"date\"] = hf_trends[\"date\"].astype(str)\n",
    "hf_trends[\"date\"].dtypes"
   ]
  },
  {
   "cell_type": "code",
   "execution_count": 32,
   "id": "f819ca04",
   "metadata": {},
   "outputs": [
    {
     "data": {
      "text/html": [
       "<div>\n",
       "<style scoped>\n",
       "    .dataframe tbody tr th:only-of-type {\n",
       "        vertical-align: middle;\n",
       "    }\n",
       "\n",
       "    .dataframe tbody tr th {\n",
       "        vertical-align: top;\n",
       "    }\n",
       "\n",
       "    .dataframe thead th {\n",
       "        text-align: right;\n",
       "    }\n",
       "</style>\n",
       "<table border=\"1\" class=\"dataframe\">\n",
       "  <thead>\n",
       "    <tr style=\"text-align: right;\">\n",
       "      <th></th>\n",
       "      <th>date</th>\n",
       "      <th>BTC_Trends_US</th>\n",
       "      <th>Date</th>\n",
       "    </tr>\n",
       "  </thead>\n",
       "  <tbody>\n",
       "    <tr>\n",
       "      <th>0</th>\n",
       "      <td>2022-02-01</td>\n",
       "      <td>0.600000</td>\n",
       "      <td>2022-02-01</td>\n",
       "    </tr>\n",
       "    <tr>\n",
       "      <th>1</th>\n",
       "      <td>2022-02-02</td>\n",
       "      <td>0.433333</td>\n",
       "      <td>2022-02-02</td>\n",
       "    </tr>\n",
       "    <tr>\n",
       "      <th>2</th>\n",
       "      <td>2022-02-03</td>\n",
       "      <td>0.533333</td>\n",
       "      <td>2022-02-03</td>\n",
       "    </tr>\n",
       "  </tbody>\n",
       "</table>\n",
       "</div>"
      ],
      "text/plain": [
       "         date  BTC_Trends_US        Date\n",
       "0  2022-02-01       0.600000  2022-02-01\n",
       "1  2022-02-02       0.433333  2022-02-02\n",
       "2  2022-02-03       0.533333  2022-02-03"
      ]
     },
     "execution_count": 32,
     "metadata": {},
     "output_type": "execute_result"
    }
   ],
   "source": [
    "hf_trends[\"Date\"] = hf_trends[\"date\"].str.slice(0, 10)\n",
    "hf_trends.head(3)"
   ]
  },
  {
   "cell_type": "code",
   "execution_count": 33,
   "id": "a0d1fdb6",
   "metadata": {},
   "outputs": [
    {
     "data": {
      "text/html": [
       "<div>\n",
       "<style scoped>\n",
       "    .dataframe tbody tr th:only-of-type {\n",
       "        vertical-align: middle;\n",
       "    }\n",
       "\n",
       "    .dataframe tbody tr th {\n",
       "        vertical-align: top;\n",
       "    }\n",
       "\n",
       "    .dataframe thead th {\n",
       "        text-align: right;\n",
       "    }\n",
       "</style>\n",
       "<table border=\"1\" class=\"dataframe\">\n",
       "  <thead>\n",
       "    <tr style=\"text-align: right;\">\n",
       "      <th></th>\n",
       "      <th>BTC_Trends_US</th>\n",
       "      <th>Date</th>\n",
       "    </tr>\n",
       "  </thead>\n",
       "  <tbody>\n",
       "    <tr>\n",
       "      <th>0</th>\n",
       "      <td>0.600000</td>\n",
       "      <td>2022-02-01</td>\n",
       "    </tr>\n",
       "    <tr>\n",
       "      <th>1</th>\n",
       "      <td>0.433333</td>\n",
       "      <td>2022-02-02</td>\n",
       "    </tr>\n",
       "    <tr>\n",
       "      <th>2</th>\n",
       "      <td>0.533333</td>\n",
       "      <td>2022-02-03</td>\n",
       "    </tr>\n",
       "  </tbody>\n",
       "</table>\n",
       "</div>"
      ],
      "text/plain": [
       "   BTC_Trends_US        Date\n",
       "0       0.600000  2022-02-01\n",
       "1       0.433333  2022-02-02\n",
       "2       0.533333  2022-02-03"
      ]
     },
     "execution_count": 33,
     "metadata": {},
     "output_type": "execute_result"
    }
   ],
   "source": [
    "hf_trends = hf_trends.drop(columns=['date'])\n",
    "hf_trends.head(3)"
   ]
  },
  {
   "cell_type": "code",
   "execution_count": 34,
   "id": "02c16681",
   "metadata": {},
   "outputs": [
    {
     "data": {
      "text/html": [
       "<div>\n",
       "<style scoped>\n",
       "    .dataframe tbody tr th:only-of-type {\n",
       "        vertical-align: middle;\n",
       "    }\n",
       "\n",
       "    .dataframe tbody tr th {\n",
       "        vertical-align: top;\n",
       "    }\n",
       "\n",
       "    .dataframe thead th {\n",
       "        text-align: right;\n",
       "    }\n",
       "</style>\n",
       "<table border=\"1\" class=\"dataframe\">\n",
       "  <thead>\n",
       "    <tr style=\"text-align: right;\">\n",
       "      <th></th>\n",
       "      <th>Date</th>\n",
       "      <th>BTC_Price</th>\n",
       "      <th>BTC_Trends_US</th>\n",
       "    </tr>\n",
       "  </thead>\n",
       "  <tbody>\n",
       "    <tr>\n",
       "      <th>17</th>\n",
       "      <td>2022-02-18</td>\n",
       "      <td>0.404035</td>\n",
       "      <td>0.466667</td>\n",
       "    </tr>\n",
       "    <tr>\n",
       "      <th>18</th>\n",
       "      <td>2022-02-19</td>\n",
       "      <td>0.425246</td>\n",
       "      <td>0.133333</td>\n",
       "    </tr>\n",
       "    <tr>\n",
       "      <th>19</th>\n",
       "      <td>2022-02-20</td>\n",
       "      <td>0.197879</td>\n",
       "      <td>0.566667</td>\n",
       "    </tr>\n",
       "  </tbody>\n",
       "</table>\n",
       "</div>"
      ],
      "text/plain": [
       "          Date  BTC_Price  BTC_Trends_US\n",
       "17  2022-02-18   0.404035       0.466667\n",
       "18  2022-02-19   0.425246       0.133333\n",
       "19  2022-02-20   0.197879       0.566667"
      ]
     },
     "execution_count": 34,
     "metadata": {},
     "output_type": "execute_result"
    }
   ],
   "source": [
    "#Combine 2 dataframes\n",
    "dfhf = pd.merge(df,hf_trends, on=[\"Date\", \"Date\"])\n",
    "dfhf.tail(3)"
   ]
  },
  {
   "cell_type": "markdown",
   "id": "47be873a",
   "metadata": {},
   "source": [
    "### Correlation Heatmap"
   ]
  },
  {
   "cell_type": "code",
   "execution_count": 35,
   "id": "0874801f",
   "metadata": {},
   "outputs": [
    {
     "data": {
      "image/png": "[encoded data removed]",
      "text/plain": [
       "<Figure size 360x216 with 2 Axes>"
      ]
     },
     "metadata": {},
     "output_type": "display_data"
    }
   ],
   "source": [
    "# generate heatmap of correlation coefficients \n",
    "plt.figure(figsize=(5, 3)) # create figure  \n",
    "\n",
    "sns.heatmap(dfhf.corr(),linewidths = .4,  cmap=\"YlGnBu\", annot = True)  \n",
    "plt.title(\"Heatmap Correlation Coefficient between BTC Price VS BTC Trends\", size = 14,)\n",
    "plt.savefig(\"heatmap_BTC_Price_Trends.jpg\",transparent=False, bbox_inches='tight',pad_inches=0.1)\n",
    "plt.show() # show figure  "
   ]
  },
  {
   "cell_type": "code",
   "execution_count": null,
   "id": "0cbd036f",
   "metadata": {},
   "outputs": [],
   "source": [
    "#There are positive weak correlation between BTC Price vs BTC Trends"
   ]
  }
 ],
 "metadata": {
  "kernelspec": {
   "display_name": "Python 3",
   "language": "python",
   "name": "python3"
  },
  "language_info": {
   "codemirror_mode": {
    "name": "ipython",
    "version": 3
   },
   "file_extension": ".py",
   "mimetype": "text/x-python",
   "name": "python",
   "nbconvert_exporter": "python",
   "pygments_lexer": "ipython3",
   "version": "3.8.8"
  }
 },
 "nbformat": 4,
 "nbformat_minor": 5
}
