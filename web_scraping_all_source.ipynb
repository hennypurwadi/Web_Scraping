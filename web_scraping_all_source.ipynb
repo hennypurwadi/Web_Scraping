{
 "cells": [
  {
   "cell_type": "code",
   "execution_count": 39,
   "id": "fa75da5e",
   "metadata": {},
   "outputs": [],
   "source": [
    "import requests \n",
    "import pandas as pd \n",
    "from bs4 import BeautifulSoup \n",
    "import datetime\n",
    "from datetime import datetime, timedelta\n",
    "import time\n",
    "import schedule\n",
    "import h5py\n",
    "\n",
    "import warnings\n",
    "warnings.filterwarnings('ignore')\n",
    "\n",
    "#!pip install pytrends finance"
   ]
  },
  {
   "cell_type": "code",
   "execution_count": 40,
   "id": "dd06dc5d",
   "metadata": {},
   "outputs": [],
   "source": [
    "#Create directory\n",
    "import os\n",
    "\n",
    "path = './data'\n",
    "# Check whether the specified path exists or not\n",
    "isExist = os.path.exists(path)\n",
    "\n",
    "if not isExist: \n",
    "  # Create a new directory because it does not exist \n",
    "  os.makedirs(path)\n",
    "  print(\"new directory is created!\")"
   ]
  },
  {
   "cell_type": "code",
   "execution_count": 41,
   "id": "cefe8864",
   "metadata": {},
   "outputs": [
    {
     "data": {
      "text/plain": [
       "'2022-02-20'"
      ]
     },
     "execution_count": 41,
     "metadata": {},
     "output_type": "execute_result"
    }
   ],
   "source": [
    "today = datetime.now().date()\n",
    "time_delta_D = timedelta(days=7)\n",
    "lastweek = today - time_delta_D\n",
    "\n",
    "today = str(today)\n",
    "lastweek = str(lastweek)\n",
    "\n",
    "today"
   ]
  },
  {
   "cell_type": "code",
   "execution_count": 43,
   "id": "ec4de98e",
   "metadata": {},
   "outputs": [
    {
     "data": {
      "text/html": [
       "<div>\n",
       "<style scoped>\n",
       "    .dataframe tbody tr th:only-of-type {\n",
       "        vertical-align: middle;\n",
       "    }\n",
       "\n",
       "    .dataframe tbody tr th {\n",
       "        vertical-align: top;\n",
       "    }\n",
       "\n",
       "    .dataframe thead th {\n",
       "        text-align: right;\n",
       "    }\n",
       "</style>\n",
       "<table border=\"1\" class=\"dataframe\">\n",
       "  <thead>\n",
       "    <tr style=\"text-align: right;\">\n",
       "      <th></th>\n",
       "      <th>url_list</th>\n",
       "    </tr>\n",
       "  </thead>\n",
       "  <tbody>\n",
       "    <tr>\n",
       "      <th>0</th>\n",
       "      <td>https://finance.yahoo.com/gainers</td>\n",
       "    </tr>\n",
       "    <tr>\n",
       "      <th>1</th>\n",
       "      <td>https://finance.yahoo.com/currencies</td>\n",
       "    </tr>\n",
       "    <tr>\n",
       "      <th>2</th>\n",
       "      <td>https://coinmarketcap.com/nft/collections/</td>\n",
       "    </tr>\n",
       "    <tr>\n",
       "      <th>3</th>\n",
       "      <td>https://finance.yahoo.com/cryptocurrencies/</td>\n",
       "    </tr>\n",
       "  </tbody>\n",
       "</table>\n",
       "</div>"
      ],
      "text/plain": [
       "                                      url_list\n",
       "0            https://finance.yahoo.com/gainers\n",
       "1         https://finance.yahoo.com/currencies\n",
       "2   https://coinmarketcap.com/nft/collections/\n",
       "3  https://finance.yahoo.com/cryptocurrencies/"
      ]
     },
     "execution_count": 43,
     "metadata": {},
     "output_type": "execute_result"
    }
   ],
   "source": [
    "#Show list of url\n",
    "file_url = pd.read_csv('url.csv')\n",
    "file_url"
   ]
  },
  {
   "cell_type": "code",
   "execution_count": 51,
   "id": "5509b263",
   "metadata": {},
   "outputs": [
    {
     "data": {
      "text/plain": [
       "Every 1 day at 10:30:00 do job() (last run: [never], next run: 2022-02-21 10:30:00)"
      ]
     },
     "execution_count": 51,
     "metadata": {},
     "output_type": "execute_result"
    }
   ],
   "source": [
    "def web_scrape(url):\n",
    "    \n",
    "    Bsoup = BeautifulSoup(requests.get(url).text)\n",
    "    headers = [header.text for listing in Bsoup.find_all('thead') for header in listing.find_all('th')]\n",
    "    r_data = {header:[] for header in headers}\n",
    "\n",
    "    for rows in Bsoup.find_all('tbody'):\n",
    "      for row in rows.find_all('tr'):\n",
    "        \n",
    "        if len(row) != len(headers): continue\n",
    "        for idx, cell in enumerate(row.find_all('td')):\n",
    "              r_data[headers[idx]].append(cell.text)\n",
    "    return pd.DataFrame(r_data)\n",
    "\n",
    "\n",
    "def job():\n",
    "\n",
    "    df0 = web_scrape(file_url['url_list'].iloc[0])\n",
    "    df00 = df0.iloc[:, 0:3]\n",
    "    df1 = web_scrape(file_url['url_list'].iloc[1])\n",
    "    df01 = df1.iloc[:, 0:3]\n",
    "    df2 = web_scrape(file_url['url_list'].iloc[2])\n",
    "    df02 = df2.iloc[:, 0:5]\n",
    "    df3 = web_scrape(file_url['url_list'].iloc[3])\n",
    "    df03 = df3.iloc[:, 0:3]\n",
    "    \n",
    "    #chosen url\n",
    "    df = df03 \n",
    "    \n",
    "    h5File = (today + '_web_scrape.h5')\n",
    "    df.to_hdf(h5File, 'w')\n",
    "    print(\"wrote hdf5 file done\")   \n",
    "    \n",
    "#schedule.every(1).minutes.do(job)\n",
    "#schedule.every(1).hour.do(job)\n",
    "schedule.every(1).day.at(\"10:30\").do(job)"
   ]
  },
  {
   "cell_type": "code",
   "execution_count": 70,
   "id": "671abe66",
   "metadata": {},
   "outputs": [],
   "source": [
    "#https://finance.yahoo.com/gainers\n",
    "df0 = web_scrape(file_url['url_list'].iloc[0])\n",
    "df00 = df0.iloc[:, 0:3]\n",
    "\n",
    "#https://finance.yahoo.com/currencies\n",
    "df1 = web_scrape(file_url['url_list'].iloc[1])\n",
    "df01 = df1.iloc[:, 0:3]\n",
    "\n",
    "#https://coinmarketcap.com/nft/collections/\n",
    "df2 = web_scrape(file_url['url_list'].iloc[2])\n",
    "df02 = df2.iloc[:, 0:5]\n",
    "\n",
    "#https://finance.yahoo.com/cryptocurrencies/\n",
    "df3 = web_scrape(file_url['url_list'].iloc[3])\n",
    "df03 = df3.iloc[:, 0:3]"
   ]
  },
  {
   "cell_type": "code",
   "execution_count": 65,
   "id": "cc6584a3",
   "metadata": {},
   "outputs": [
    {
     "name": "stdout",
     "output_type": "stream",
     "text": [
      "wrote hdf5 file done\n"
     ]
    },
    {
     "data": {
      "text/html": [
       "<div>\n",
       "<style scoped>\n",
       "    .dataframe tbody tr th:only-of-type {\n",
       "        vertical-align: middle;\n",
       "    }\n",
       "\n",
       "    .dataframe tbody tr th {\n",
       "        vertical-align: top;\n",
       "    }\n",
       "\n",
       "    .dataframe thead th {\n",
       "        text-align: right;\n",
       "    }\n",
       "</style>\n",
       "<table border=\"1\" class=\"dataframe\">\n",
       "  <thead>\n",
       "    <tr style=\"text-align: right;\">\n",
       "      <th></th>\n",
       "      <th>Symbol</th>\n",
       "      <th>Name</th>\n",
       "      <th>Price (Intraday)</th>\n",
       "    </tr>\n",
       "  </thead>\n",
       "  <tbody>\n",
       "    <tr>\n",
       "      <th>0</th>\n",
       "      <td>OBMP</td>\n",
       "      <td>Theralink Technologies, Inc.</td>\n",
       "      <td>1.1000</td>\n",
       "    </tr>\n",
       "    <tr>\n",
       "      <th>1</th>\n",
       "      <td>AMPL</td>\n",
       "      <td>Amplitude, Inc.</td>\n",
       "      <td>20.66</td>\n",
       "    </tr>\n",
       "  </tbody>\n",
       "</table>\n",
       "</div>"
      ],
      "text/plain": [
       "  Symbol                          Name Price (Intraday)\n",
       "0   OBMP  Theralink Technologies, Inc.           1.1000\n",
       "1   AMPL               Amplitude, Inc.            20.66"
      ]
     },
     "execution_count": 65,
     "metadata": {},
     "output_type": "execute_result"
    }
   ],
   "source": [
    "#chose url 00\n",
    "df = df00 \n",
    "\n",
    "#Save to csv file\n",
    "df.to_csv(today + '_web_scrape.csv')\n",
    "\n",
    "#Save to HDF5 file\n",
    "h5File = (today + '_web_scrape.h5')\n",
    "df.to_hdf(h5File, 'w')\n",
    "print(\"wrote hdf5 file done\")\n",
    "\n",
    "hf = pd.read_hdf(h5File)\n",
    "list(hf.keys())\n",
    "hf.shape\n",
    "\n",
    "hf.head(2)"
   ]
  },
  {
   "cell_type": "code",
   "execution_count": 66,
   "id": "1242ea7b",
   "metadata": {},
   "outputs": [
    {
     "name": "stdout",
     "output_type": "stream",
     "text": [
      "wrote hdf5 file done\n"
     ]
    },
    {
     "data": {
      "text/html": [
       "<div>\n",
       "<style scoped>\n",
       "    .dataframe tbody tr th:only-of-type {\n",
       "        vertical-align: middle;\n",
       "    }\n",
       "\n",
       "    .dataframe tbody tr th {\n",
       "        vertical-align: top;\n",
       "    }\n",
       "\n",
       "    .dataframe thead th {\n",
       "        text-align: right;\n",
       "    }\n",
       "</style>\n",
       "<table border=\"1\" class=\"dataframe\">\n",
       "  <thead>\n",
       "    <tr style=\"text-align: right;\">\n",
       "      <th></th>\n",
       "      <th>Symbol</th>\n",
       "      <th>Name</th>\n",
       "      <th>Last Price</th>\n",
       "    </tr>\n",
       "  </thead>\n",
       "  <tbody>\n",
       "    <tr>\n",
       "      <th>0</th>\n",
       "      <td>EURUSD=X</td>\n",
       "      <td>EUR/USD</td>\n",
       "      <td>1.1326</td>\n",
       "    </tr>\n",
       "    <tr>\n",
       "      <th>1</th>\n",
       "      <td>JPY=X</td>\n",
       "      <td>USD/JPY</td>\n",
       "      <td>115.0500</td>\n",
       "    </tr>\n",
       "  </tbody>\n",
       "</table>\n",
       "</div>"
      ],
      "text/plain": [
       "     Symbol     Name Last Price\n",
       "0  EURUSD=X  EUR/USD     1.1326\n",
       "1     JPY=X  USD/JPY   115.0500"
      ]
     },
     "execution_count": 66,
     "metadata": {},
     "output_type": "execute_result"
    }
   ],
   "source": [
    "#chose url 1\n",
    "df = df01 \n",
    "\n",
    "#Save to csv file\n",
    "df.to_csv(today + '_web_scrape.csv')\n",
    "\n",
    "#Save to HDF5 file\n",
    "h5File = (today + '_web_scrape.h5')\n",
    "df.to_hdf(h5File, 'w')\n",
    "print(\"wrote hdf5 file done\")\n",
    "\n",
    "hf = pd.read_hdf(h5File)\n",
    "#list(hf.keys())\n",
    "#hf.shape\n",
    "\n",
    "hf.head(2)"
   ]
  },
  {
   "cell_type": "code",
   "execution_count": 67,
   "id": "f8a9764c",
   "metadata": {},
   "outputs": [
    {
     "name": "stdout",
     "output_type": "stream",
     "text": [
      "wrote hdf5 file done\n"
     ]
    },
    {
     "data": {
      "text/html": [
       "<div>\n",
       "<style scoped>\n",
       "    .dataframe tbody tr th:only-of-type {\n",
       "        vertical-align: middle;\n",
       "    }\n",
       "\n",
       "    .dataframe tbody tr th {\n",
       "        vertical-align: top;\n",
       "    }\n",
       "\n",
       "    .dataframe thead th {\n",
       "        text-align: right;\n",
       "    }\n",
       "</style>\n",
       "<table border=\"1\" class=\"dataframe\">\n",
       "  <thead>\n",
       "    <tr style=\"text-align: right;\">\n",
       "      <th></th>\n",
       "      <th>#</th>\n",
       "      <th>Name</th>\n",
       "      <th>Volume24h</th>\n",
       "      <th>Est. Market Cap</th>\n",
       "      <th>Floor Price</th>\n",
       "    </tr>\n",
       "  </thead>\n",
       "  <tbody>\n",
       "    <tr>\n",
       "      <th>0</th>\n",
       "      <td>1</td>\n",
       "      <td>I'M AIKO</td>\n",
       "      <td>245.78 SOL77.56%</td>\n",
       "      <td>4,467.45 SOL</td>\n",
       "      <td>2.24 SOL</td>\n",
       "    </tr>\n",
       "    <tr>\n",
       "      <th>1</th>\n",
       "      <td>2</td>\n",
       "      <td>Solana Sluts</td>\n",
       "      <td>22.76 SOL1.61%</td>\n",
       "      <td>612.67 SOL</td>\n",
       "      <td>0.6 SOL</td>\n",
       "    </tr>\n",
       "  </tbody>\n",
       "</table>\n",
       "</div>"
      ],
      "text/plain": [
       "   #          Name         Volume24h Est. Market Cap Floor Price\n",
       "0  1      I'M AIKO  245.78 SOL77.56%    4,467.45 SOL    2.24 SOL\n",
       "1  2  Solana Sluts    22.76 SOL1.61%      612.67 SOL     0.6 SOL"
      ]
     },
     "execution_count": 67,
     "metadata": {},
     "output_type": "execute_result"
    }
   ],
   "source": [
    "#chose url 2\n",
    "df = df02 \n",
    "\n",
    "#Save to csv file\n",
    "df.to_csv(today + '_web_scrape.csv')\n",
    "\n",
    "#Save to HDF5 file\n",
    "h5File = (today + '_web_scrape.h5')\n",
    "df.to_hdf(h5File, 'w')\n",
    "print(\"wrote hdf5 file done\")\n",
    "\n",
    "hf = pd.read_hdf(h5File)\n",
    "#list(hf.keys())\n",
    "#hf.shape\n",
    "\n",
    "hf.head(2)"
   ]
  },
  {
   "cell_type": "code",
   "execution_count": 68,
   "id": "0ab4fa86",
   "metadata": {},
   "outputs": [
    {
     "name": "stdout",
     "output_type": "stream",
     "text": [
      "wrote hdf5 file done\n"
     ]
    },
    {
     "data": {
      "text/html": [
       "<div>\n",
       "<style scoped>\n",
       "    .dataframe tbody tr th:only-of-type {\n",
       "        vertical-align: middle;\n",
       "    }\n",
       "\n",
       "    .dataframe tbody tr th {\n",
       "        vertical-align: top;\n",
       "    }\n",
       "\n",
       "    .dataframe thead th {\n",
       "        text-align: right;\n",
       "    }\n",
       "</style>\n",
       "<table border=\"1\" class=\"dataframe\">\n",
       "  <thead>\n",
       "    <tr style=\"text-align: right;\">\n",
       "      <th></th>\n",
       "      <th>Symbol</th>\n",
       "      <th>Name</th>\n",
       "      <th>Price (Intraday)</th>\n",
       "    </tr>\n",
       "  </thead>\n",
       "  <tbody>\n",
       "    <tr>\n",
       "      <th>0</th>\n",
       "      <td>BTC-USD</td>\n",
       "      <td>Bitcoin USD</td>\n",
       "      <td>39,813.25</td>\n",
       "    </tr>\n",
       "    <tr>\n",
       "      <th>1</th>\n",
       "      <td>ETH-USD</td>\n",
       "      <td>Ethereum USD</td>\n",
       "      <td>2,713.28</td>\n",
       "    </tr>\n",
       "  </tbody>\n",
       "</table>\n",
       "</div>"
      ],
      "text/plain": [
       "    Symbol          Name Price (Intraday)\n",
       "0  BTC-USD   Bitcoin USD        39,813.25\n",
       "1  ETH-USD  Ethereum USD         2,713.28"
      ]
     },
     "execution_count": 68,
     "metadata": {},
     "output_type": "execute_result"
    }
   ],
   "source": [
    "#chose url 3\n",
    "df = df03 \n",
    "\n",
    "#Save to csv file\n",
    "df.to_csv(today + '_web_scrape.csv')\n",
    "\n",
    "#Save to HDF5 file\n",
    "h5File = (today + '_web_scrape.h5')\n",
    "df.to_hdf(h5File, 'w')\n",
    "print(\"wrote hdf5 file done\")\n",
    "\n",
    "hf = pd.read_hdf(h5File)\n",
    "#list(hf.keys())\n",
    "#hf.shape\n",
    "\n",
    "hf.head(2)"
   ]
  },
  {
   "cell_type": "markdown",
   "id": "5546dc0a",
   "metadata": {},
   "source": [
    "### Collect and compare daily data from Google Trends using pytrends\n",
    "### for the two biggest Market Capital : BTC-USD and ETH-USD"
   ]
  },
  {
   "cell_type": "code",
   "execution_count": 23,
   "id": "6fb9e25c",
   "metadata": {},
   "outputs": [
    {
     "name": "stdout",
     "output_type": "stream",
     "text": [
      "BTC:2022-01-01 2022-01-31\n",
      "BTC:2022-02-01 2022-02-28\n",
      "ETH:2022-01-01 2022-01-31\n",
      "ETH:2022-02-01 2022-02-28\n",
      "csv file google1 saved\n",
      "csv file google2 saved\n",
      "h5File_google1 saved\n",
      "h5File_google2 saved\n"
     ]
    }
   ],
   "source": [
    "# Get daily data from Google Trends\n",
    "\n",
    "import datetime\n",
    "import requests\n",
    "import pandas as pd\n",
    "from pytrends import dailydata\n",
    "\n",
    "def get_google_trends_data(keyword, fr_date, to_date):  \n",
    "    fr_year, fr_month = datetime.date.fromisoformat(fr_date).year, datetime.date.fromisoformat(fr_date).month\n",
    "    to_year, to_month = datetime.date.fromisoformat(to_date).year, datetime.date.fromisoformat(to_date).month\n",
    "    data = dailydata.get_daily_data(keyword, fr_year, fr_month, to_year, to_month)\n",
    "    return data[keyword]\n",
    "\n",
    "today = datetime.datetime.now().date()\n",
    "time_delta_D = timedelta(days=7)\n",
    "lastweek = today - time_delta_D\n",
    "\n",
    "today = str(today)\n",
    "lastweek = str(lastweek)\n",
    "\n",
    "#Fill keyword to web scrape\n",
    "keyword_chosen1 = \"BTC\"\n",
    "keyword_chosen2 = \"ETH\"\n",
    "\n",
    "# Get Google Trends data and save\n",
    "\n",
    "#google = get_google_trends_data(keyword_chosen, lastweek, today)\n",
    "google1 = get_google_trends_data(keyword_chosen1, '2022-01-01', '2022-02-28')\n",
    "google2 = get_google_trends_data(keyword_chosen2, '2022-01-01', '2022-02-28')\n",
    "\n",
    "google1.to_csv(today + '_google1.csv','w')\n",
    "print(\"csv file google1 saved\")\n",
    "\n",
    "google2.to_csv(today + '_google2.csv','w')\n",
    "print(\"csv file google2 saved\")\n",
    "\n",
    "h5File_google1 = (today + '_google1.h5')\n",
    "google1.to_hdf(h5File_google1, 'w')\n",
    "print('h5File_google1 saved')\n",
    "\n",
    "h5File_google2 = (today + '_google2.h5')\n",
    "google2.to_hdf(h5File_google2, 'w')\n",
    "print('h5File_google2 saved')\n"
   ]
  },
  {
   "cell_type": "code",
   "execution_count": 57,
   "id": "933e3663",
   "metadata": {},
   "outputs": [
    {
     "data": {
      "text/plain": [
       "date\n",
       "2022-01-01     10.24\n",
       "2022-01-02      9.61\n",
       "2022-01-03     11.56\n",
       "2022-01-04     10.89\n",
       "2022-01-05     18.49\n",
       "2022-01-06     30.25\n",
       "2022-01-07     31.36\n",
       "2022-01-08     22.09\n",
       "2022-01-09     22.09\n",
       "2022-01-10     26.01\n",
       "2022-01-11     26.01\n",
       "2022-01-12     16.00\n",
       "2022-01-13     12.96\n",
       "2022-01-14     10.89\n",
       "2022-01-15      8.41\n",
       "2022-01-16      9.00\n",
       "2022-01-17      9.00\n",
       "2022-01-18     16.00\n",
       "2022-01-19     11.56\n",
       "2022-01-20     11.56\n",
       "2022-01-21     64.00\n",
       "2022-01-22     79.21\n",
       "2022-01-23     46.24\n",
       "2022-01-24    100.00\n",
       "2022-01-25     46.24\n",
       "2022-01-26     31.36\n",
       "2022-01-27     24.01\n",
       "2022-01-28     21.16\n",
       "2022-01-29     16.00\n",
       "2022-01-30     12.25\n",
       "2022-01-31     17.64\n",
       "2022-02-01     37.72\n",
       "2022-02-02     32.68\n",
       "2022-02-03     35.60\n",
       "2022-02-04     37.31\n",
       "2022-02-05     39.48\n",
       "2022-02-06     22.01\n",
       "2022-02-07     44.00\n",
       "2022-02-08     44.00\n",
       "2022-02-09     36.00\n",
       "2022-02-10     39.48\n",
       "2022-02-11     34.32\n",
       "2022-02-12     19.80\n",
       "2022-02-13     24.42\n",
       "2022-02-14     28.80\n",
       "2022-02-15     29.52\n",
       "2022-02-16     26.18\n",
       "2022-02-17     28.00\n",
       "Name: BTC, dtype: float64"
      ]
     },
     "execution_count": 57,
     "metadata": {},
     "output_type": "execute_result"
    }
   ],
   "source": [
    "#Read Result 1 we got from Google\n",
    "hf_google1 = pd.read_hdf(h5File_google1)\n",
    "hf_google1.head(60)"
   ]
  },
  {
   "cell_type": "code",
   "execution_count": 58,
   "id": "f993ecd2",
   "metadata": {},
   "outputs": [
    {
     "data": {
      "text/plain": [
       "date\n",
       "2022-01-01     22.09\n",
       "2022-01-02     28.09\n",
       "2022-01-03     39.69\n",
       "2022-01-04     38.44\n",
       "2022-01-05     42.25\n",
       "2022-01-06     59.29\n",
       "2022-01-07     53.29\n",
       "2022-01-08     53.29\n",
       "2022-01-09     56.25\n",
       "2022-01-10     51.84\n",
       "2022-01-11     53.29\n",
       "2022-01-12     51.84\n",
       "2022-01-13     39.69\n",
       "2022-01-14     44.89\n",
       "2022-01-15     40.96\n",
       "2022-01-16     28.09\n",
       "2022-01-17     38.44\n",
       "2022-01-18     34.81\n",
       "2022-01-19     64.00\n",
       "2022-01-20     46.24\n",
       "2022-01-21     96.04\n",
       "2022-01-22    100.00\n",
       "2022-01-23     50.41\n",
       "2022-01-24     64.00\n",
       "2022-01-25     68.89\n",
       "2022-01-26     59.29\n",
       "2022-01-27     39.69\n",
       "2022-01-28     33.64\n",
       "2022-01-29     34.81\n",
       "2022-01-30     33.64\n",
       "2022-01-31     34.81\n",
       "2022-02-01     68.00\n",
       "2022-02-02     64.02\n",
       "2022-02-03     46.48\n",
       "2022-02-04     54.90\n",
       "2022-02-05     54.90\n",
       "2022-02-06     42.66\n",
       "2022-02-07     42.66\n",
       "2022-02-08     49.88\n",
       "2022-02-09     37.00\n",
       "2022-02-10     45.92\n",
       "2022-02-11     35.77\n",
       "2022-02-12     26.04\n",
       "2022-02-13     26.04\n",
       "2022-02-14     25.01\n",
       "2022-02-15     39.52\n",
       "2022-02-16     41.34\n",
       "2022-02-17     29.70\n",
       "Name: ETH, dtype: float64"
      ]
     },
     "execution_count": 58,
     "metadata": {},
     "output_type": "execute_result"
    }
   ],
   "source": [
    "#Read Result 2 we got from Google\n",
    "hf_google2 = pd.read_hdf(h5File_google2)\n",
    "hf_google2.head(60)"
   ]
  },
  {
   "cell_type": "code",
   "execution_count": 26,
   "id": "ce63f374",
   "metadata": {},
   "outputs": [],
   "source": [
    "#Plot"
   ]
  },
  {
   "cell_type": "markdown",
   "id": "abd677ee",
   "metadata": {},
   "source": [
    "# writefile to .py files"
   ]
  },
  {
   "cell_type": "code",
   "execution_count": 59,
   "id": "496984e8",
   "metadata": {},
   "outputs": [
    {
     "name": "stdout",
     "output_type": "stream",
     "text": [
      "Overwriting web_scraping_trends.py\n"
     ]
    }
   ],
   "source": [
    "%%writefile web_scraping_trends.py\n",
    "\n",
    "# Get daily data from Google Trends\n",
    "\n",
    "import datetime\n",
    "import requests\n",
    "import pandas as pd\n",
    "from pytrends import dailydata\n",
    "\n",
    "def get_google_trends_data(keyword, fr_date, to_date):  \n",
    "    fr_year, fr_month = datetime.date.fromisoformat(fr_date).year, datetime.date.fromisoformat(fr_date).month\n",
    "    to_year, to_month = datetime.date.fromisoformat(to_date).year, datetime.date.fromisoformat(to_date).month\n",
    "    data = dailydata.get_daily_data(keyword, fr_year, fr_month, to_year, to_month)\n",
    "    return data[keyword]\n",
    "\n",
    "today = datetime.datetime.now().date()\n",
    "time_delta_D = timedelta(days=7)\n",
    "lastweek = today - time_delta_D\n",
    "\n",
    "today = str(today)\n",
    "lastweek = str(lastweek)\n",
    "\n",
    "#Fill keywords to web scrape\n",
    "keyword_chosen1 = \"BTC\"\n",
    "keyword_chosen2 = \"ETH\"\n",
    "\n",
    "# Get Google Trends data and save\n",
    "\n",
    "#google = get_google_trends_data(keyword_chosen, lastweek, today)\n",
    "google1 = get_google_trends_data(keyword_chosen1, '2022-01-01', '2022-02-28')\n",
    "google2 = get_google_trends_data(keyword_chosen2, '2022-01-01', '2022-02-28')\n",
    "\n",
    "h5File_google1 = (today + '_google1.h5')\n",
    "google1.to_hdf(h5File_google1, 'w')\n",
    "print('h5File_google1 saved')\n",
    "\n",
    "h5File_google2 = (today + '_google2.h5')\n",
    "google2.to_hdf(h5File_google2, 'w')\n",
    "print('h5File_google2 saved')"
   ]
  },
  {
   "cell_type": "code",
   "execution_count": 69,
   "id": "f65836ee",
   "metadata": {},
   "outputs": [
    {
     "name": "stdout",
     "output_type": "stream",
     "text": [
      "Overwriting web_scraping.py\n"
     ]
    }
   ],
   "source": [
    "%%writefile web_scraping.py\n",
    "\n",
    "import requests \n",
    "import pandas as pd \n",
    "from bs4 import BeautifulSoup \n",
    "import datetime\n",
    "from datetime import datetime, timedelta\n",
    "import time\n",
    "import schedule\n",
    "import h5py\n",
    "\n",
    "import warnings\n",
    "warnings.filterwarnings('ignore')\n",
    "\n",
    "today = datetime.now().date()\n",
    "today = str(today)\n",
    "\n",
    "file_url = pd.read_csv('url.csv')\n",
    "\n",
    "def web_scrape(url):\n",
    "    \n",
    "    Bsoup = BeautifulSoup(requests.get(url).text)\n",
    "    headers = [header.text for listing in Bsoup.find_all('thead') for header in listing.find_all('th')]\n",
    "    r_data = {header:[] for header in headers}\n",
    "\n",
    "    for rows in Bsoup.find_all('tbody'):\n",
    "      for row in rows.find_all('tr'):\n",
    "        \n",
    "        if len(row) != len(headers): continue\n",
    "        for idx, cell in enumerate(row.find_all('td')):\n",
    "              r_data[headers[idx]].append(cell.text)\n",
    "    return pd.DataFrame(r_data)\n",
    "\n",
    "def job():\n",
    "    \n",
    "    #https://finance.yahoo.com/gainers\n",
    "    df0 = web_scrape(file_url['url_list'].iloc[0])\n",
    "    df00 = df0.iloc[:, 0:3]\n",
    "\n",
    "    #https://finance.yahoo.com/currencies\n",
    "    df1 = web_scrape(file_url['url_list'].iloc[1])\n",
    "    df01 = df1.iloc[:, 0:3]\n",
    "\n",
    "    #https://coinmarketcap.com/nft/collections/\n",
    "    df2 = web_scrape(file_url['url_list'].iloc[2])\n",
    "    df02 = df2.iloc[:, 0:5]\n",
    "\n",
    "    #https://finance.yahoo.com/cryptocurrencies/\n",
    "    df3 = web_scrape(file_url['url_list'].iloc[3])\n",
    "    df03 = df3.iloc[:, 0:3]\n",
    "    \n",
    "    #chosen url\n",
    "    df = df03 \n",
    "    \n",
    "    h5File = (today + '_web_scrape.h5')\n",
    "    df.to_hdf(h5File, 'w')\n",
    "    print(\"wrote hdf5 file done\")   \n",
    "    \n",
    "schedule.every().day.at(\"10:30\").do(job)\n",
    "\n",
    "if __name__ == \"__main__\":\n",
    "    job()"
   ]
  },
  {
   "cell_type": "markdown",
   "id": "102c52e7",
   "metadata": {},
   "source": [
    "#### Automated task using Task Scheduler on Windows (Run Task Scheduler)\n",
    "1.Open Start\n",
    "\n",
    "2.Search for Task Scheduler , click the top result to open the experience.\n",
    "\n",
    "3.Expand the Task Scheduler Library branch.\n",
    "\n",
    "4.Select the folder with your tasks.\n",
    "\n",
    "5.To run a task on demand, right-click it and select the Run option.\n",
    "\n",
    "6.To edit a task, right-click it and select the Properties options.\n",
    "\n",
    "7.To delete a task, right-click it and select the Delete option."
   ]
  },
  {
   "cell_type": "code",
   "execution_count": 61,
   "id": "5d93390a",
   "metadata": {},
   "outputs": [],
   "source": [
    "from datetime import datetime\n",
    "with open('timestamps.txt','a+') as file:\n",
    "    file.write(str(datetime.now()))    "
   ]
  }
 ],
 "metadata": {
  "kernelspec": {
   "display_name": "Python 3",
   "language": "python",
   "name": "python3"
  },
  "language_info": {
   "codemirror_mode": {
    "name": "ipython",
    "version": 3
   },
   "file_extension": ".py",
   "mimetype": "text/x-python",
   "name": "python",
   "nbconvert_exporter": "python",
   "pygments_lexer": "ipython3",
   "version": "3.8.8"
  }
 },
 "nbformat": 4,
 "nbformat_minor": 5
}
